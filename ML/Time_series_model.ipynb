{
 "cells": [
  {
   "cell_type": "code",
   "execution_count": 1,
   "metadata": {
    "execution": {
     "iopub.execute_input": "2025-06-21T05:37:41.616624Z",
     "iopub.status.busy": "2025-06-21T05:37:41.616430Z",
     "iopub.status.idle": "2025-06-21T05:37:43.525574Z",
     "shell.execute_reply": "2025-06-21T05:37:43.524813Z",
     "shell.execute_reply.started": "2025-06-21T05:37:41.616604Z"
    },
    "trusted": true
   },
   "outputs": [],
   "source": [
    "import pandas as pd\n",
    "data=pd.read_csv(\"/kaggle/input/crop-production-statistics-india/APY.csv\")"
   ]
  },
  {
   "cell_type": "code",
   "execution_count": 3,
   "metadata": {
    "execution": {
     "iopub.execute_input": "2025-06-21T05:38:05.314586Z",
     "iopub.status.busy": "2025-06-21T05:38:05.314281Z",
     "iopub.status.idle": "2025-06-21T05:38:05.326667Z",
     "shell.execute_reply": "2025-06-21T05:38:05.325774Z",
     "shell.execute_reply.started": "2025-06-21T05:38:05.314562Z"
    },
    "trusted": true
   },
   "outputs": [
    {
     "data": {
      "text/html": [
       "<div>\n",
       "<style scoped>\n",
       "    .dataframe tbody tr th:only-of-type {\n",
       "        vertical-align: middle;\n",
       "    }\n",
       "\n",
       "    .dataframe tbody tr th {\n",
       "        vertical-align: top;\n",
       "    }\n",
       "\n",
       "    .dataframe thead th {\n",
       "        text-align: right;\n",
       "    }\n",
       "</style>\n",
       "<table border=\"1\" class=\"dataframe\">\n",
       "  <thead>\n",
       "    <tr style=\"text-align: right;\">\n",
       "      <th></th>\n",
       "      <th>State</th>\n",
       "      <th>District</th>\n",
       "      <th>Crop</th>\n",
       "      <th>Crop_Year</th>\n",
       "      <th>Season</th>\n",
       "      <th>Area</th>\n",
       "      <th>Production</th>\n",
       "      <th>Yield</th>\n",
       "    </tr>\n",
       "  </thead>\n",
       "  <tbody>\n",
       "    <tr>\n",
       "      <th>0</th>\n",
       "      <td>Andaman and Nicobar Island</td>\n",
       "      <td>NICOBARS</td>\n",
       "      <td>Arecanut</td>\n",
       "      <td>2007</td>\n",
       "      <td>Kharif</td>\n",
       "      <td>2439.6</td>\n",
       "      <td>3415.0</td>\n",
       "      <td>1.40</td>\n",
       "    </tr>\n",
       "    <tr>\n",
       "      <th>1</th>\n",
       "      <td>Andaman and Nicobar Island</td>\n",
       "      <td>NICOBARS</td>\n",
       "      <td>Arecanut</td>\n",
       "      <td>2007</td>\n",
       "      <td>Rabi</td>\n",
       "      <td>1626.4</td>\n",
       "      <td>2277.0</td>\n",
       "      <td>1.40</td>\n",
       "    </tr>\n",
       "    <tr>\n",
       "      <th>2</th>\n",
       "      <td>Andaman and Nicobar Island</td>\n",
       "      <td>NICOBARS</td>\n",
       "      <td>Arecanut</td>\n",
       "      <td>2008</td>\n",
       "      <td>Autumn</td>\n",
       "      <td>4147.0</td>\n",
       "      <td>3060.0</td>\n",
       "      <td>0.74</td>\n",
       "    </tr>\n",
       "    <tr>\n",
       "      <th>3</th>\n",
       "      <td>Andaman and Nicobar Island</td>\n",
       "      <td>NICOBARS</td>\n",
       "      <td>Arecanut</td>\n",
       "      <td>2008</td>\n",
       "      <td>Summer</td>\n",
       "      <td>4147.0</td>\n",
       "      <td>2660.0</td>\n",
       "      <td>0.64</td>\n",
       "    </tr>\n",
       "    <tr>\n",
       "      <th>4</th>\n",
       "      <td>Andaman and Nicobar Island</td>\n",
       "      <td>NICOBARS</td>\n",
       "      <td>Arecanut</td>\n",
       "      <td>2009</td>\n",
       "      <td>Autumn</td>\n",
       "      <td>4153.0</td>\n",
       "      <td>3120.0</td>\n",
       "      <td>0.75</td>\n",
       "    </tr>\n",
       "    <tr>\n",
       "      <th>5</th>\n",
       "      <td>Andaman and Nicobar Island</td>\n",
       "      <td>NICOBARS</td>\n",
       "      <td>Arecanut</td>\n",
       "      <td>2009</td>\n",
       "      <td>Summer</td>\n",
       "      <td>4153.0</td>\n",
       "      <td>2080.0</td>\n",
       "      <td>0.50</td>\n",
       "    </tr>\n",
       "    <tr>\n",
       "      <th>6</th>\n",
       "      <td>Andaman and Nicobar Island</td>\n",
       "      <td>NICOBARS</td>\n",
       "      <td>Arecanut</td>\n",
       "      <td>2000</td>\n",
       "      <td>Kharif</td>\n",
       "      <td>1254.0</td>\n",
       "      <td>2000.0</td>\n",
       "      <td>1.59</td>\n",
       "    </tr>\n",
       "    <tr>\n",
       "      <th>7</th>\n",
       "      <td>Andaman and Nicobar Island</td>\n",
       "      <td>NICOBARS</td>\n",
       "      <td>Arecanut</td>\n",
       "      <td>2001</td>\n",
       "      <td>Kharif</td>\n",
       "      <td>1254.0</td>\n",
       "      <td>2061.0</td>\n",
       "      <td>1.64</td>\n",
       "    </tr>\n",
       "    <tr>\n",
       "      <th>8</th>\n",
       "      <td>Andaman and Nicobar Island</td>\n",
       "      <td>NICOBARS</td>\n",
       "      <td>Arecanut</td>\n",
       "      <td>2002</td>\n",
       "      <td>Whole Year</td>\n",
       "      <td>1258.0</td>\n",
       "      <td>2083.0</td>\n",
       "      <td>1.66</td>\n",
       "    </tr>\n",
       "    <tr>\n",
       "      <th>9</th>\n",
       "      <td>Andaman and Nicobar Island</td>\n",
       "      <td>NICOBARS</td>\n",
       "      <td>Arecanut</td>\n",
       "      <td>2003</td>\n",
       "      <td>Whole Year</td>\n",
       "      <td>1261.0</td>\n",
       "      <td>1525.0</td>\n",
       "      <td>1.21</td>\n",
       "    </tr>\n",
       "  </tbody>\n",
       "</table>\n",
       "</div>"
      ],
      "text/plain": [
       "                        State District       Crop  Crop_Year       Season  \\\n",
       "0  Andaman and Nicobar Island  NICOBARS  Arecanut       2007  Kharif        \n",
       "1  Andaman and Nicobar Island  NICOBARS  Arecanut       2007  Rabi          \n",
       "2  Andaman and Nicobar Island  NICOBARS  Arecanut       2008  Autumn        \n",
       "3  Andaman and Nicobar Island  NICOBARS  Arecanut       2008  Summer        \n",
       "4  Andaman and Nicobar Island  NICOBARS  Arecanut       2009  Autumn        \n",
       "5  Andaman and Nicobar Island  NICOBARS  Arecanut       2009  Summer        \n",
       "6  Andaman and Nicobar Island  NICOBARS  Arecanut       2000  Kharif        \n",
       "7  Andaman and Nicobar Island  NICOBARS  Arecanut       2001  Kharif        \n",
       "8  Andaman and Nicobar Island  NICOBARS  Arecanut       2002  Whole Year    \n",
       "9  Andaman and Nicobar Island  NICOBARS  Arecanut       2003  Whole Year    \n",
       "\n",
       "    Area   Production  Yield  \n",
       "0  2439.6      3415.0   1.40  \n",
       "1  1626.4      2277.0   1.40  \n",
       "2  4147.0      3060.0   0.74  \n",
       "3  4147.0      2660.0   0.64  \n",
       "4  4153.0      3120.0   0.75  \n",
       "5  4153.0      2080.0   0.50  \n",
       "6  1254.0      2000.0   1.59  \n",
       "7  1254.0      2061.0   1.64  \n",
       "8  1258.0      2083.0   1.66  \n",
       "9  1261.0      1525.0   1.21  "
      ]
     },
     "execution_count": 3,
     "metadata": {},
     "output_type": "execute_result"
    }
   ],
   "source": [
    "data.head(10)"
   ]
  },
  {
   "cell_type": "code",
   "execution_count": 4,
   "metadata": {
    "execution": {
     "iopub.execute_input": "2025-06-21T05:38:09.834537Z",
     "iopub.status.busy": "2025-06-21T05:38:09.834231Z",
     "iopub.status.idle": "2025-06-21T05:38:09.908416Z",
     "shell.execute_reply": "2025-06-21T05:38:09.907699Z",
     "shell.execute_reply.started": "2025-06-21T05:38:09.834511Z"
    },
    "trusted": true
   },
   "outputs": [
    {
     "name": "stdout",
     "output_type": "stream",
     "text": [
      "<bound method DataFrame.sum of         State  District    Crop  Crop_Year  Season  Area   Production  Yield\n",
      "0       False      False  False      False   False  False       False  False\n",
      "1       False      False  False      False   False  False       False  False\n",
      "2       False      False  False      False   False  False       False  False\n",
      "3       False      False  False      False   False  False       False  False\n",
      "4       False      False  False      False   False  False       False  False\n",
      "...       ...        ...    ...        ...     ...    ...         ...    ...\n",
      "345331  False      False  False      False   False  False       False  False\n",
      "345332  False      False  False      False   False  False       False  False\n",
      "345333  False      False  False      False   False  False       False  False\n",
      "345334  False      False  False      False   False  False       False  False\n",
      "345335  False      False  False      False   False  False       False  False\n",
      "\n",
      "[345336 rows x 8 columns]>\n"
     ]
    }
   ],
   "source": [
    "print(data.isnull().sum)"
   ]
  },
  {
   "cell_type": "code",
   "execution_count": 5,
   "metadata": {
    "execution": {
     "iopub.execute_input": "2025-06-21T05:38:19.994848Z",
     "iopub.status.busy": "2025-06-21T05:38:19.994552Z",
     "iopub.status.idle": "2025-06-21T05:38:20.020891Z",
     "shell.execute_reply": "2025-06-21T05:38:20.019912Z",
     "shell.execute_reply.started": "2025-06-21T05:38:19.994825Z"
    },
    "trusted": true
   },
   "outputs": [
    {
     "name": "stdout",
     "output_type": "stream",
     "text": [
      "{0: 'Andaman and Nicobar Island', 1: 'Andhra Pradesh', 2: 'Arunachal Pradesh', 3: 'Assam', 4: 'Bihar', 5: 'CHANDIGARH', 6: 'Chhattisgarh', 7: 'Dadra and Nagar Haveli', 8: 'Daman and Diu', 9: 'Delhi', 10: 'Goa', 11: 'Gujarat', 12: 'Haryana', 13: 'Himachal Pradesh', 14: 'Jammu and Kashmir', 15: 'Jharkhand', 16: 'Karnataka', 17: 'Kerala', 18: 'Laddak', 19: 'Madhya Pradesh', 20: 'Maharashtra', 21: 'Manipur', 22: 'Meghalaya', 23: 'Mizoram', 24: 'Nagaland', 25: 'Odisha', 26: 'Puducherry', 27: 'Punjab', 28: 'Rajasthan', 29: 'Sikkim', 30: 'THE DADRA AND NAGAR HAVELI', 31: 'Tamil Nadu', 32: 'Telangana', 33: 'Tripura', 34: 'Uttar Pradesh', 35: 'Uttarakhand', 36: 'West Bengal'}\n"
     ]
    }
   ],
   "source": [
    "rop_names = data['State'].unique()\n",
    "\n",
    "# Create a label-to-name mapping\n",
    "rop_labels = {i: crop for i, crop in enumerate(sorted(rop_names))}\n",
    "print(rop_labels)\n"
   ]
  },
  {
   "cell_type": "code",
   "execution_count": 6,
   "metadata": {
    "execution": {
     "iopub.execute_input": "2025-06-21T05:38:29.559632Z",
     "iopub.status.busy": "2025-06-21T05:38:29.559360Z",
     "iopub.status.idle": "2025-06-21T05:38:29.646878Z",
     "shell.execute_reply": "2025-06-21T05:38:29.646060Z",
     "shell.execute_reply.started": "2025-06-21T05:38:29.559611Z"
    },
    "trusted": true
   },
   "outputs": [
    {
     "name": "stdout",
     "output_type": "stream",
     "text": [
      "<class 'pandas.core.frame.DataFrame'>\n",
      "RangeIndex: 345336 entries, 0 to 345335\n",
      "Data columns (total 8 columns):\n",
      " #   Column      Non-Null Count   Dtype  \n",
      "---  ------      --------------   -----  \n",
      " 0   State       345336 non-null  object \n",
      " 1   District    345336 non-null  object \n",
      " 2   Crop        345327 non-null  object \n",
      " 3   Crop_Year   345336 non-null  int64  \n",
      " 4   Season      345336 non-null  object \n",
      " 5   Area        345336 non-null  float64\n",
      " 6   Production  340388 non-null  float64\n",
      " 7   Yield       345336 non-null  float64\n",
      "dtypes: float64(3), int64(1), object(4)\n",
      "memory usage: 21.1+ MB\n"
     ]
    }
   ],
   "source": [
    "data.info()"
   ]
  },
  {
   "cell_type": "code",
   "execution_count": 7,
   "metadata": {
    "execution": {
     "iopub.execute_input": "2025-06-21T05:38:36.155216Z",
     "iopub.status.busy": "2025-06-21T05:38:36.154893Z",
     "iopub.status.idle": "2025-06-21T05:38:36.239491Z",
     "shell.execute_reply": "2025-06-21T05:38:36.238812Z",
     "shell.execute_reply.started": "2025-06-21T05:38:36.155190Z"
    },
    "trusted": true
   },
   "outputs": [],
   "source": [
    "target_crops = ['apple', 'banana', 'blackgram', 'chickpea', 'coconut', 'coffee', 'cotton', \n",
    "                'grapes', 'jute', 'kidneybeans', 'lentil', 'maize', 'mango', 'mothbeans',\n",
    "                'mungbean', 'muskmelon', 'orange', 'papaya', 'pigeonpeas', 'pomegranate',\n",
    "                'rice', 'watermelon']\n",
    "\n",
    "data = data[data['Crop'].str.lower().isin(target_crops)]\n",
    "\n"
   ]
  },
  {
   "cell_type": "code",
   "execution_count": 8,
   "metadata": {
    "execution": {
     "iopub.execute_input": "2025-06-21T05:38:48.479519Z",
     "iopub.status.busy": "2025-06-21T05:38:48.479245Z",
     "iopub.status.idle": "2025-06-21T05:38:48.491359Z",
     "shell.execute_reply": "2025-06-21T05:38:48.490566Z",
     "shell.execute_reply.started": "2025-06-21T05:38:48.479497Z"
    },
    "trusted": true
   },
   "outputs": [],
   "source": [
    "data['Date'] = pd.to_datetime(data['Crop_Year'], format='%Y')\n",
    "data.set_index('Date', inplace=True)\n"
   ]
  },
  {
   "cell_type": "code",
   "execution_count": 9,
   "metadata": {
    "execution": {
     "iopub.execute_input": "2025-06-21T05:38:51.770202Z",
     "iopub.status.busy": "2025-06-21T05:38:51.769753Z",
     "iopub.status.idle": "2025-06-21T05:38:51.784274Z",
     "shell.execute_reply": "2025-06-21T05:38:51.783481Z",
     "shell.execute_reply.started": "2025-06-21T05:38:51.770164Z"
    },
    "trusted": true
   },
   "outputs": [],
   "source": [
    "data = data.dropna(subset=['Crop'])\n"
   ]
  },
  {
   "cell_type": "code",
   "execution_count": 10,
   "metadata": {
    "execution": {
     "iopub.execute_input": "2025-06-21T05:38:56.275308Z",
     "iopub.status.busy": "2025-06-21T05:38:56.275012Z",
     "iopub.status.idle": "2025-06-21T05:38:56.302856Z",
     "shell.execute_reply": "2025-06-21T05:38:56.302037Z",
     "shell.execute_reply.started": "2025-06-21T05:38:56.275285Z"
    },
    "trusted": true
   },
   "outputs": [
    {
     "name": "stdout",
     "output_type": "stream",
     "text": [
      "State         0\n",
      "District      0\n",
      "Crop          0\n",
      "Crop_Year     0\n",
      "Season        0\n",
      "Area          0\n",
      "Production    0\n",
      "Yield         0\n",
      "dtype: int64\n"
     ]
    }
   ],
   "source": [
    "# Step 1: Strip any extra spaces in column names\n",
    "data.columns = data.columns.str.strip()\n",
    "\n",
    "# Step 2: Drop rows where 'Crop' is missing (only 9 rows)\n",
    "data = data.dropna(subset=['Crop'])\n",
    "\n",
    "# Step 3: Fill missing 'Production' values using: Production = Area * Yield\n",
    "missing_prod = data['Production'].isnull()\n",
    "\n",
    "# Check if 'Area' and 'Yield' are available before multiplying\n",
    "fill_condition = missing_prod & data['Area'].notnull() & data['Yield'].notnull()\n",
    "\n",
    "# Apply the formula\n",
    "data.loc[fill_condition, 'Production'] = data.loc[fill_condition, 'Area'] * data.loc[fill_condition, 'Yield']\n",
    "\n",
    "# Optional: Drop remaining rows where 'Production' is still missing\n",
    "data = data.dropna(subset=['Production'])\n",
    "\n",
    "# ✅ Check if all missing values are fixed\n",
    "print(data.isnull().sum())\n"
   ]
  },
  {
   "cell_type": "code",
   "execution_count": 11,
   "metadata": {
    "execution": {
     "iopub.execute_input": "2025-06-21T05:39:02.039894Z",
     "iopub.status.busy": "2025-06-21T05:39:02.039449Z",
     "iopub.status.idle": "2025-06-21T05:39:02.056152Z",
     "shell.execute_reply": "2025-06-21T05:39:02.055195Z",
     "shell.execute_reply.started": "2025-06-21T05:39:02.039853Z"
    },
    "trusted": true
   },
   "outputs": [
    {
     "data": {
      "text/html": [
       "<div>\n",
       "<style scoped>\n",
       "    .dataframe tbody tr th:only-of-type {\n",
       "        vertical-align: middle;\n",
       "    }\n",
       "\n",
       "    .dataframe tbody tr th {\n",
       "        vertical-align: top;\n",
       "    }\n",
       "\n",
       "    .dataframe thead th {\n",
       "        text-align: right;\n",
       "    }\n",
       "</style>\n",
       "<table border=\"1\" class=\"dataframe\">\n",
       "  <thead>\n",
       "    <tr style=\"text-align: right;\">\n",
       "      <th></th>\n",
       "      <th>State</th>\n",
       "      <th>District</th>\n",
       "      <th>Crop</th>\n",
       "      <th>Crop_Year</th>\n",
       "      <th>Season</th>\n",
       "      <th>Area</th>\n",
       "      <th>Production</th>\n",
       "      <th>Yield</th>\n",
       "    </tr>\n",
       "    <tr>\n",
       "      <th>Date</th>\n",
       "      <th></th>\n",
       "      <th></th>\n",
       "      <th></th>\n",
       "      <th></th>\n",
       "      <th></th>\n",
       "      <th></th>\n",
       "      <th></th>\n",
       "      <th></th>\n",
       "    </tr>\n",
       "  </thead>\n",
       "  <tbody>\n",
       "    <tr>\n",
       "      <th>2007-01-01</th>\n",
       "      <td>Andaman and Nicobar Island</td>\n",
       "      <td>NICOBARS</td>\n",
       "      <td>Banana</td>\n",
       "      <td>2007</td>\n",
       "      <td>Kharif</td>\n",
       "      <td>837.95</td>\n",
       "      <td>7451.0</td>\n",
       "      <td>8.89</td>\n",
       "    </tr>\n",
       "    <tr>\n",
       "      <th>2007-01-01</th>\n",
       "      <td>Andaman and Nicobar Island</td>\n",
       "      <td>NICOBARS</td>\n",
       "      <td>Banana</td>\n",
       "      <td>2007</td>\n",
       "      <td>Rabi</td>\n",
       "      <td>685.59</td>\n",
       "      <td>6096.0</td>\n",
       "      <td>8.89</td>\n",
       "    </tr>\n",
       "    <tr>\n",
       "      <th>2008-01-01</th>\n",
       "      <td>Andaman and Nicobar Island</td>\n",
       "      <td>NICOBARS</td>\n",
       "      <td>Banana</td>\n",
       "      <td>2008</td>\n",
       "      <td>Autumn</td>\n",
       "      <td>795.00</td>\n",
       "      <td>7710.0</td>\n",
       "      <td>9.70</td>\n",
       "    </tr>\n",
       "    <tr>\n",
       "      <th>2008-01-01</th>\n",
       "      <td>Andaman and Nicobar Island</td>\n",
       "      <td>NICOBARS</td>\n",
       "      <td>Banana</td>\n",
       "      <td>2008</td>\n",
       "      <td>Summer</td>\n",
       "      <td>794.00</td>\n",
       "      <td>7710.0</td>\n",
       "      <td>9.71</td>\n",
       "    </tr>\n",
       "    <tr>\n",
       "      <th>2009-01-01</th>\n",
       "      <td>Andaman and Nicobar Island</td>\n",
       "      <td>NICOBARS</td>\n",
       "      <td>Banana</td>\n",
       "      <td>2009</td>\n",
       "      <td>Autumn</td>\n",
       "      <td>798.00</td>\n",
       "      <td>7435.0</td>\n",
       "      <td>9.32</td>\n",
       "    </tr>\n",
       "  </tbody>\n",
       "</table>\n",
       "</div>"
      ],
      "text/plain": [
       "                                 State  District    Crop  Crop_Year  \\\n",
       "Date                                                                  \n",
       "2007-01-01  Andaman and Nicobar Island  NICOBARS  Banana       2007   \n",
       "2007-01-01  Andaman and Nicobar Island  NICOBARS  Banana       2007   \n",
       "2008-01-01  Andaman and Nicobar Island  NICOBARS  Banana       2008   \n",
       "2008-01-01  Andaman and Nicobar Island  NICOBARS  Banana       2008   \n",
       "2009-01-01  Andaman and Nicobar Island  NICOBARS  Banana       2009   \n",
       "\n",
       "                 Season    Area  Production  Yield  \n",
       "Date                                                \n",
       "2007-01-01  Kharif       837.95      7451.0   8.89  \n",
       "2007-01-01  Rabi         685.59      6096.0   8.89  \n",
       "2008-01-01  Autumn       795.00      7710.0   9.70  \n",
       "2008-01-01  Summer       794.00      7710.0   9.71  \n",
       "2009-01-01  Autumn       798.00      7435.0   9.32  "
      ]
     },
     "execution_count": 11,
     "metadata": {},
     "output_type": "execute_result"
    }
   ],
   "source": [
    "data.head()"
   ]
  },
  {
   "cell_type": "code",
   "execution_count": 12,
   "metadata": {
    "execution": {
     "iopub.execute_input": "2025-06-21T05:39:49.514997Z",
     "iopub.status.busy": "2025-06-21T05:39:49.514669Z",
     "iopub.status.idle": "2025-06-21T05:39:50.312042Z",
     "shell.execute_reply": "2025-06-21T05:39:50.311220Z",
     "shell.execute_reply.started": "2025-06-21T05:39:49.514945Z"
    },
    "trusted": true
   },
   "outputs": [
    {
     "name": "stdout",
     "output_type": "stream",
     "text": [
      "(48177, 8)\n",
      "State          object\n",
      "District       object\n",
      "Crop           object\n",
      "Crop_Year       int64\n",
      "Season         object\n",
      "Area          float64\n",
      "Production    float64\n",
      "Yield         float64\n",
      "dtype: object\n",
      "          Crop_Year           Area    Production        Yield\n",
      "count  48177.000000   48177.000000  4.817700e+04  48177.00000\n",
      "mean    2008.867945   24943.004798  6.512684e+04      4.93975\n",
      "std        6.606584   50203.959490  1.489504e+05     16.56411\n",
      "min     1997.000000       0.040000  0.000000e+00      0.00000\n",
      "25%     2003.000000     418.000000  9.350000e+02      1.41000\n",
      "50%     2009.000000    3545.000000  9.169000e+03      2.14000\n",
      "75%     2015.000000   22744.000000  5.534700e+04      3.21000\n",
      "max     2020.000000  687000.000000  2.589591e+06   1494.00000\n",
      "Crop\n",
      "Rice      21611\n",
      "Maize     20513\n",
      "Banana     4140\n",
      "Jute       1913\n",
      "Name: count, dtype: int64\n"
     ]
    }
   ],
   "source": [
    "import pandas as pd\n",
    "import matplotlib.pyplot as plt\n",
    "import seaborn as sns\n",
    "\n",
    "# Confirm datetime index\n",
    "data.index = pd.to_datetime(data.index)\n",
    "\n",
    "# Overview\n",
    "print(data.shape)\n",
    "print(data.dtypes)\n",
    "print(data.describe())\n",
    "print(data['Crop'].value_counts().head(10))\n"
   ]
  },
  {
   "cell_type": "code",
   "execution_count": 13,
   "metadata": {
    "execution": {
     "iopub.execute_input": "2025-06-21T05:40:10.554905Z",
     "iopub.status.busy": "2025-06-21T05:40:10.554443Z",
     "iopub.status.idle": "2025-06-21T05:40:11.179873Z",
     "shell.execute_reply": "2025-06-21T05:40:11.179015Z",
     "shell.execute_reply.started": "2025-06-21T05:40:10.554881Z"
    },
    "trusted": true
   },
   "outputs": [
    {
     "name": "stderr",
     "output_type": "stream",
     "text": [
      "<ipython-input-13-2b912f4eeb4e>:8: UserWarning: Glyph 127757 (\\N{EARTH GLOBE EUROPE-AFRICA}) missing from current font.\n",
      "  plt.tight_layout()\n",
      "/usr/local/lib/python3.10/dist-packages/IPython/core/pylabtools.py:151: UserWarning: Glyph 127757 (\\N{EARTH GLOBE EUROPE-AFRICA}) missing from current font.\n",
      "  fig.canvas.print_figure(bytes_io, **kw)\n"
     ]
    },
    {
     "data": {
      "image/png": "[encoded data removed]",
      "text/plain": [
       "<Figure size 800x1200 with 1 Axes>"
      ]
     },
     "metadata": {},
     "output_type": "display_data"
    }
   ],
   "source": [
    "state_yield = data.groupby('State')['Yield'].mean().sort_values()\n",
    "\n",
    "plt.figure(figsize=(8,12))\n",
    "sns.barplot(y=state_yield.index, x=state_yield.values, palette='viridis')\n",
    "plt.title(\"🌍 Average Crop Yield per State\")\n",
    "plt.xlabel(\"Yield\")\n",
    "plt.ylabel(\"State\")\n",
    "plt.tight_layout()\n",
    "plt.show()\n"
   ]
  },
  {
   "cell_type": "code",
   "execution_count": 14,
   "metadata": {
    "execution": {
     "iopub.execute_input": "2025-06-21T05:40:21.874692Z",
     "iopub.status.busy": "2025-06-21T05:40:21.874407Z",
     "iopub.status.idle": "2025-06-21T05:40:21.881505Z",
     "shell.execute_reply": "2025-06-21T05:40:21.880547Z",
     "shell.execute_reply.started": "2025-06-21T05:40:21.874671Z"
    },
    "trusted": true
   },
   "outputs": [
    {
     "name": "stdout",
     "output_type": "stream",
     "text": [
      "['Kharif     ' 'Rabi       ' 'Autumn     ' 'Summer     ' 'Whole Year '\n",
      " 'Winter     ']\n"
     ]
    }
   ],
   "source": [
    "# Show unique seasons\n",
    "print(data['Season'].unique())\n",
    "\n"
   ]
  },
  {
   "cell_type": "code",
   "execution_count": 15,
   "metadata": {
    "execution": {
     "iopub.execute_input": "2025-06-21T05:40:26.199906Z",
     "iopub.status.busy": "2025-06-21T05:40:26.199605Z",
     "iopub.status.idle": "2025-06-21T05:40:26.204380Z",
     "shell.execute_reply": "2025-06-21T05:40:26.203371Z",
     "shell.execute_reply.started": "2025-06-21T05:40:26.199881Z"
    },
    "trusted": true
   },
   "outputs": [
    {
     "name": "stdout",
     "output_type": "stream",
     "text": [
      "['State', 'District', 'Crop', 'Crop_Year', 'Season', 'Area', 'Production', 'Yield']\n"
     ]
    }
   ],
   "source": [
    "print(data.columns.tolist())\n"
   ]
  },
  {
   "cell_type": "code",
   "execution_count": 17,
   "metadata": {
    "execution": {
     "iopub.execute_input": "2025-06-21T05:41:28.820184Z",
     "iopub.status.busy": "2025-06-21T05:41:28.819838Z",
     "iopub.status.idle": "2025-06-21T05:41:28.882531Z",
     "shell.execute_reply": "2025-06-21T05:41:28.881784Z",
     "shell.execute_reply.started": "2025-06-21T05:41:28.820158Z"
    },
    "trusted": true
   },
   "outputs": [],
   "source": [
    "# Remove extra spaces\n",
    "data['Season'] = data['Season'].str.strip()\n",
    "\n",
    "# Now map seasons to months\n",
    "season_month_mapping = {\n",
    "    'Kharif': 9,\n",
    "    'Rabi': 3,\n",
    "    'Summer': 6,\n",
    "    'Winter': 12,\n",
    "    'Autumn': 10,\n",
    "    'Whole Year': 7\n",
    "}\n",
    "\n",
    "# Map season to month\n",
    "data['Month'] = data['Season'].map(season_month_mapping)\n",
    "\n",
    "# Now safely create the Date column\n",
    "data['Date'] = pd.to_datetime(data['Crop_Year'].astype(str) + '-' + data['Month'].astype(str) + '-01')\n"
   ]
  },
  {
   "cell_type": "code",
   "execution_count": 18,
   "metadata": {
    "execution": {
     "iopub.execute_input": "2025-06-21T05:41:33.355351Z",
     "iopub.status.busy": "2025-06-21T05:41:33.355044Z",
     "iopub.status.idle": "2025-06-21T05:41:33.424694Z",
     "shell.execute_reply": "2025-06-21T05:41:33.423963Z",
     "shell.execute_reply.started": "2025-06-21T05:41:33.355330Z"
    },
    "trusted": true
   },
   "outputs": [
    {
     "data": {
      "text/html": [
       "<div>\n",
       "<style scoped>\n",
       "    .dataframe tbody tr th:only-of-type {\n",
       "        vertical-align: middle;\n",
       "    }\n",
       "\n",
       "    .dataframe tbody tr th {\n",
       "        vertical-align: top;\n",
       "    }\n",
       "\n",
       "    .dataframe thead th {\n",
       "        text-align: right;\n",
       "    }\n",
       "</style>\n",
       "<table border=\"1\" class=\"dataframe\">\n",
       "  <thead>\n",
       "    <tr style=\"text-align: right;\">\n",
       "      <th></th>\n",
       "      <th>State</th>\n",
       "      <th>District</th>\n",
       "      <th>Crop</th>\n",
       "      <th>Crop_Year</th>\n",
       "      <th>Season</th>\n",
       "      <th>Area</th>\n",
       "      <th>Production</th>\n",
       "      <th>Yield</th>\n",
       "      <th>Month</th>\n",
       "      <th>Date</th>\n",
       "      <th>Decade</th>\n",
       "      <th>Quarter</th>\n",
       "    </tr>\n",
       "    <tr>\n",
       "      <th>Date</th>\n",
       "      <th></th>\n",
       "      <th></th>\n",
       "      <th></th>\n",
       "      <th></th>\n",
       "      <th></th>\n",
       "      <th></th>\n",
       "      <th></th>\n",
       "      <th></th>\n",
       "      <th></th>\n",
       "      <th></th>\n",
       "      <th></th>\n",
       "      <th></th>\n",
       "    </tr>\n",
       "  </thead>\n",
       "  <tbody>\n",
       "    <tr>\n",
       "      <th>2007-01-01</th>\n",
       "      <td>Andaman and Nicobar Island</td>\n",
       "      <td>NICOBARS</td>\n",
       "      <td>Banana</td>\n",
       "      <td>2007</td>\n",
       "      <td>Kharif</td>\n",
       "      <td>837.95</td>\n",
       "      <td>7451.0</td>\n",
       "      <td>8.89</td>\n",
       "      <td>9</td>\n",
       "      <td>2007-09-01</td>\n",
       "      <td>2000</td>\n",
       "      <td>3</td>\n",
       "    </tr>\n",
       "    <tr>\n",
       "      <th>2007-01-01</th>\n",
       "      <td>Andaman and Nicobar Island</td>\n",
       "      <td>NICOBARS</td>\n",
       "      <td>Banana</td>\n",
       "      <td>2007</td>\n",
       "      <td>Rabi</td>\n",
       "      <td>685.59</td>\n",
       "      <td>6096.0</td>\n",
       "      <td>8.89</td>\n",
       "      <td>3</td>\n",
       "      <td>2007-03-01</td>\n",
       "      <td>2000</td>\n",
       "      <td>1</td>\n",
       "    </tr>\n",
       "    <tr>\n",
       "      <th>2008-01-01</th>\n",
       "      <td>Andaman and Nicobar Island</td>\n",
       "      <td>NICOBARS</td>\n",
       "      <td>Banana</td>\n",
       "      <td>2008</td>\n",
       "      <td>Autumn</td>\n",
       "      <td>795.00</td>\n",
       "      <td>7710.0</td>\n",
       "      <td>9.70</td>\n",
       "      <td>10</td>\n",
       "      <td>2008-10-01</td>\n",
       "      <td>2000</td>\n",
       "      <td>4</td>\n",
       "    </tr>\n",
       "    <tr>\n",
       "      <th>2008-01-01</th>\n",
       "      <td>Andaman and Nicobar Island</td>\n",
       "      <td>NICOBARS</td>\n",
       "      <td>Banana</td>\n",
       "      <td>2008</td>\n",
       "      <td>Summer</td>\n",
       "      <td>794.00</td>\n",
       "      <td>7710.0</td>\n",
       "      <td>9.71</td>\n",
       "      <td>6</td>\n",
       "      <td>2008-06-01</td>\n",
       "      <td>2000</td>\n",
       "      <td>2</td>\n",
       "    </tr>\n",
       "    <tr>\n",
       "      <th>2009-01-01</th>\n",
       "      <td>Andaman and Nicobar Island</td>\n",
       "      <td>NICOBARS</td>\n",
       "      <td>Banana</td>\n",
       "      <td>2009</td>\n",
       "      <td>Autumn</td>\n",
       "      <td>798.00</td>\n",
       "      <td>7435.0</td>\n",
       "      <td>9.32</td>\n",
       "      <td>10</td>\n",
       "      <td>2009-10-01</td>\n",
       "      <td>2000</td>\n",
       "      <td>4</td>\n",
       "    </tr>\n",
       "  </tbody>\n",
       "</table>\n",
       "</div>"
      ],
      "text/plain": [
       "                                 State  District    Crop  Crop_Year  Season  \\\n",
       "Date                                                                          \n",
       "2007-01-01  Andaman and Nicobar Island  NICOBARS  Banana       2007  Kharif   \n",
       "2007-01-01  Andaman and Nicobar Island  NICOBARS  Banana       2007    Rabi   \n",
       "2008-01-01  Andaman and Nicobar Island  NICOBARS  Banana       2008  Autumn   \n",
       "2008-01-01  Andaman and Nicobar Island  NICOBARS  Banana       2008  Summer   \n",
       "2009-01-01  Andaman and Nicobar Island  NICOBARS  Banana       2009  Autumn   \n",
       "\n",
       "              Area  Production  Yield  Month       Date  Decade  Quarter  \n",
       "Date                                                                      \n",
       "2007-01-01  837.95      7451.0   8.89      9 2007-09-01    2000        3  \n",
       "2007-01-01  685.59      6096.0   8.89      3 2007-03-01    2000        1  \n",
       "2008-01-01  795.00      7710.0   9.70     10 2008-10-01    2000        4  \n",
       "2008-01-01  794.00      7710.0   9.71      6 2008-06-01    2000        2  \n",
       "2009-01-01  798.00      7435.0   9.32     10 2009-10-01    2000        4  "
      ]
     },
     "execution_count": 18,
     "metadata": {},
     "output_type": "execute_result"
    }
   ],
   "source": [
    "import pandas as pd\n",
    "\n",
    "# Define a mapping of seasons to approximate months\n",
    "season_month_mapping = {\n",
    "    'Kharif': 9,     # September\n",
    "    'Rabi': 3,       # March\n",
    "    'Summer': 6,     # June\n",
    "    'Winter': 12,    # December\n",
    "    'Autumn': 10,    # October\n",
    "    'Whole Year': 7  # Mid-Year Approximation\n",
    "}\n",
    "\n",
    "# Clean the Season column to remove leading/trailing whitespace\n",
    "data['Season'] = data['Season'].str.strip()\n",
    "\n",
    "# Create a Date column using the Crop_Year and Season-based month approximation\n",
    "data['Month'] = data['Season'].map(season_month_mapping)\n",
    "data['Date'] = pd.to_datetime(data['Crop_Year'].astype(str) + '-' + data['Month'].astype(str) + '-01')\n",
    "\n",
    "# Extract more time-based features\n",
    "data['Decade'] = (data['Crop_Year'] // 10) * 10  # Group into decades\n",
    "data['Quarter'] = data['Date'].dt.quarter\n",
    "\n",
    "# Display the first few rows\n",
    "data.head()\n"
   ]
  },
  {
   "cell_type": "code",
   "execution_count": 19,
   "metadata": {
    "execution": {
     "iopub.execute_input": "2025-06-21T05:41:44.690118Z",
     "iopub.status.busy": "2025-06-21T05:41:44.689767Z",
     "iopub.status.idle": "2025-06-21T05:41:44.830432Z",
     "shell.execute_reply": "2025-06-21T05:41:44.829510Z",
     "shell.execute_reply.started": "2025-06-21T05:41:44.690089Z"
    },
    "trusted": true
   },
   "outputs": [
    {
     "data": {
      "text/html": [
       "<div>\n",
       "<style scoped>\n",
       "    .dataframe tbody tr th:only-of-type {\n",
       "        vertical-align: middle;\n",
       "    }\n",
       "\n",
       "    .dataframe tbody tr th {\n",
       "        vertical-align: top;\n",
       "    }\n",
       "\n",
       "    .dataframe thead th {\n",
       "        text-align: right;\n",
       "    }\n",
       "</style>\n",
       "<table border=\"1\" class=\"dataframe\">\n",
       "  <thead>\n",
       "    <tr style=\"text-align: right;\">\n",
       "      <th></th>\n",
       "      <th>State</th>\n",
       "      <th>District</th>\n",
       "      <th>Crop</th>\n",
       "      <th>Crop_Year</th>\n",
       "      <th>Season</th>\n",
       "      <th>Area</th>\n",
       "      <th>Production</th>\n",
       "      <th>Yield</th>\n",
       "      <th>Month</th>\n",
       "      <th>Date</th>\n",
       "      <th>Decade</th>\n",
       "      <th>Quarter</th>\n",
       "    </tr>\n",
       "    <tr>\n",
       "      <th>Date</th>\n",
       "      <th></th>\n",
       "      <th></th>\n",
       "      <th></th>\n",
       "      <th></th>\n",
       "      <th></th>\n",
       "      <th></th>\n",
       "      <th></th>\n",
       "      <th></th>\n",
       "      <th></th>\n",
       "      <th></th>\n",
       "      <th></th>\n",
       "      <th></th>\n",
       "    </tr>\n",
       "  </thead>\n",
       "  <tbody>\n",
       "    <tr>\n",
       "      <th>2007-01-01</th>\n",
       "      <td>0</td>\n",
       "      <td>457</td>\n",
       "      <td>0</td>\n",
       "      <td>2007</td>\n",
       "      <td>1</td>\n",
       "      <td>837.95</td>\n",
       "      <td>7451.0</td>\n",
       "      <td>8.89</td>\n",
       "      <td>9</td>\n",
       "      <td>2007-09-01</td>\n",
       "      <td>2000</td>\n",
       "      <td>3</td>\n",
       "    </tr>\n",
       "    <tr>\n",
       "      <th>2007-01-01</th>\n",
       "      <td>0</td>\n",
       "      <td>457</td>\n",
       "      <td>0</td>\n",
       "      <td>2007</td>\n",
       "      <td>2</td>\n",
       "      <td>685.59</td>\n",
       "      <td>6096.0</td>\n",
       "      <td>8.89</td>\n",
       "      <td>3</td>\n",
       "      <td>2007-03-01</td>\n",
       "      <td>2000</td>\n",
       "      <td>1</td>\n",
       "    </tr>\n",
       "    <tr>\n",
       "      <th>2008-01-01</th>\n",
       "      <td>0</td>\n",
       "      <td>457</td>\n",
       "      <td>0</td>\n",
       "      <td>2008</td>\n",
       "      <td>0</td>\n",
       "      <td>795.00</td>\n",
       "      <td>7710.0</td>\n",
       "      <td>9.70</td>\n",
       "      <td>10</td>\n",
       "      <td>2008-10-01</td>\n",
       "      <td>2000</td>\n",
       "      <td>4</td>\n",
       "    </tr>\n",
       "    <tr>\n",
       "      <th>2008-01-01</th>\n",
       "      <td>0</td>\n",
       "      <td>457</td>\n",
       "      <td>0</td>\n",
       "      <td>2008</td>\n",
       "      <td>3</td>\n",
       "      <td>794.00</td>\n",
       "      <td>7710.0</td>\n",
       "      <td>9.71</td>\n",
       "      <td>6</td>\n",
       "      <td>2008-06-01</td>\n",
       "      <td>2000</td>\n",
       "      <td>2</td>\n",
       "    </tr>\n",
       "    <tr>\n",
       "      <th>2009-01-01</th>\n",
       "      <td>0</td>\n",
       "      <td>457</td>\n",
       "      <td>0</td>\n",
       "      <td>2009</td>\n",
       "      <td>0</td>\n",
       "      <td>798.00</td>\n",
       "      <td>7435.0</td>\n",
       "      <td>9.32</td>\n",
       "      <td>10</td>\n",
       "      <td>2009-10-01</td>\n",
       "      <td>2000</td>\n",
       "      <td>4</td>\n",
       "    </tr>\n",
       "  </tbody>\n",
       "</table>\n",
       "</div>"
      ],
      "text/plain": [
       "            State  District  Crop  Crop_Year  Season    Area  Production  \\\n",
       "Date                                                                       \n",
       "2007-01-01      0       457     0       2007       1  837.95      7451.0   \n",
       "2007-01-01      0       457     0       2007       2  685.59      6096.0   \n",
       "2008-01-01      0       457     0       2008       0  795.00      7710.0   \n",
       "2008-01-01      0       457     0       2008       3  794.00      7710.0   \n",
       "2009-01-01      0       457     0       2009       0  798.00      7435.0   \n",
       "\n",
       "            Yield  Month       Date  Decade  Quarter  \n",
       "Date                                                  \n",
       "2007-01-01   8.89      9 2007-09-01    2000        3  \n",
       "2007-01-01   8.89      3 2007-03-01    2000        1  \n",
       "2008-01-01   9.70     10 2008-10-01    2000        4  \n",
       "2008-01-01   9.71      6 2008-06-01    2000        2  \n",
       "2009-01-01   9.32     10 2009-10-01    2000        4  "
      ]
     },
     "execution_count": 19,
     "metadata": {},
     "output_type": "execute_result"
    }
   ],
   "source": [
    "from sklearn.preprocessing import LabelEncoder\n",
    "\n",
    "# Encode categorical variables\n",
    "label_encoders = {}\n",
    "for col in ['State', 'District', 'Crop', 'Season']:\n",
    "    le = LabelEncoder()\n",
    "    data[col] = le.fit_transform(data[col])\n",
    "    label_encoders[col] = le  # Store encoders for inverse transformation later\n",
    "\n",
    "data.head()\n"
   ]
  },
  {
   "cell_type": "code",
   "execution_count": 20,
   "metadata": {
    "execution": {
     "iopub.execute_input": "2025-06-21T05:41:52.715134Z",
     "iopub.status.busy": "2025-06-21T05:41:52.714804Z",
     "iopub.status.idle": "2025-06-21T05:41:52.719256Z",
     "shell.execute_reply": "2025-06-21T05:41:52.718563Z",
     "shell.execute_reply.started": "2025-06-21T05:41:52.715107Z"
    },
    "trusted": true
   },
   "outputs": [
    {
     "name": "stdout",
     "output_type": "stream",
     "text": [
      "['State', 'District', 'Crop', 'Crop_Year', 'Season', 'Area', 'Production', 'Yield', 'Month', 'Date', 'Decade', 'Quarter']\n"
     ]
    }
   ],
   "source": [
    "print(data.columns.tolist())\n"
   ]
  },
  {
   "cell_type": "code",
   "execution_count": 21,
   "metadata": {
    "execution": {
     "iopub.execute_input": "2025-06-21T05:41:56.219558Z",
     "iopub.status.busy": "2025-06-21T05:41:56.219263Z",
     "iopub.status.idle": "2025-06-21T05:41:56.261440Z",
     "shell.execute_reply": "2025-06-21T05:41:56.260668Z",
     "shell.execute_reply.started": "2025-06-21T05:41:56.219534Z"
    },
    "trusted": true
   },
   "outputs": [
    {
     "name": "stderr",
     "output_type": "stream",
     "text": [
      "/usr/local/lib/python3.10/dist-packages/pandas/io/formats/format.py:1458: RuntimeWarning: invalid value encountered in greater\n",
      "  has_large_values = (abs_vals > 1e6).any()\n",
      "/usr/local/lib/python3.10/dist-packages/pandas/io/formats/format.py:1459: RuntimeWarning: invalid value encountered in less\n",
      "  has_small_values = ((abs_vals < 10 ** (-self.digits)) & (abs_vals > 0)).any()\n",
      "/usr/local/lib/python3.10/dist-packages/pandas/io/formats/format.py:1459: RuntimeWarning: invalid value encountered in greater\n",
      "  has_small_values = ((abs_vals < 10 ** (-self.digits)) & (abs_vals > 0)).any()\n"
     ]
    },
    {
     "data": {
      "text/html": [
       "<div>\n",
       "<style scoped>\n",
       "    .dataframe tbody tr th:only-of-type {\n",
       "        vertical-align: middle;\n",
       "    }\n",
       "\n",
       "    .dataframe tbody tr th {\n",
       "        vertical-align: top;\n",
       "    }\n",
       "\n",
       "    .dataframe thead th {\n",
       "        text-align: right;\n",
       "    }\n",
       "</style>\n",
       "<table border=\"1\" class=\"dataframe\">\n",
       "  <thead>\n",
       "    <tr style=\"text-align: right;\">\n",
       "      <th></th>\n",
       "      <th>State</th>\n",
       "      <th>District</th>\n",
       "      <th>Crop</th>\n",
       "      <th>Crop_Year</th>\n",
       "      <th>Season</th>\n",
       "      <th>Area</th>\n",
       "      <th>Production</th>\n",
       "      <th>Yield</th>\n",
       "      <th>Month</th>\n",
       "      <th>Date</th>\n",
       "      <th>Decade</th>\n",
       "      <th>Quarter</th>\n",
       "      <th>Production_Lag_1</th>\n",
       "      <th>Production_Lag_3</th>\n",
       "    </tr>\n",
       "  </thead>\n",
       "  <tbody>\n",
       "    <tr>\n",
       "      <th>6</th>\n",
       "      <td>0</td>\n",
       "      <td>457</td>\n",
       "      <td>0</td>\n",
       "      <td>2000</td>\n",
       "      <td>4</td>\n",
       "      <td>176.000</td>\n",
       "      <td>641.0</td>\n",
       "      <td>3.64</td>\n",
       "      <td>7</td>\n",
       "      <td>2000-07-01</td>\n",
       "      <td>2000</td>\n",
       "      <td>3</td>\n",
       "      <td>NaN</td>\n",
       "      <td>NaN</td>\n",
       "    </tr>\n",
       "    <tr>\n",
       "      <th>7</th>\n",
       "      <td>0</td>\n",
       "      <td>457</td>\n",
       "      <td>0</td>\n",
       "      <td>2002</td>\n",
       "      <td>4</td>\n",
       "      <td>213.000</td>\n",
       "      <td>1278.0</td>\n",
       "      <td>6.00</td>\n",
       "      <td>7</td>\n",
       "      <td>2002-07-01</td>\n",
       "      <td>2000</td>\n",
       "      <td>3</td>\n",
       "      <td>641.0</td>\n",
       "      <td>NaN</td>\n",
       "    </tr>\n",
       "    <tr>\n",
       "      <th>8</th>\n",
       "      <td>0</td>\n",
       "      <td>457</td>\n",
       "      <td>0</td>\n",
       "      <td>2003</td>\n",
       "      <td>4</td>\n",
       "      <td>266.000</td>\n",
       "      <td>1763.0</td>\n",
       "      <td>6.63</td>\n",
       "      <td>7</td>\n",
       "      <td>2003-07-01</td>\n",
       "      <td>2000</td>\n",
       "      <td>3</td>\n",
       "      <td>1278.0</td>\n",
       "      <td>NaN</td>\n",
       "    </tr>\n",
       "    <tr>\n",
       "      <th>9</th>\n",
       "      <td>0</td>\n",
       "      <td>457</td>\n",
       "      <td>0</td>\n",
       "      <td>2004</td>\n",
       "      <td>4</td>\n",
       "      <td>66.418</td>\n",
       "      <td>404.0</td>\n",
       "      <td>6.08</td>\n",
       "      <td>7</td>\n",
       "      <td>2004-07-01</td>\n",
       "      <td>2000</td>\n",
       "      <td>3</td>\n",
       "      <td>1763.0</td>\n",
       "      <td>641.0</td>\n",
       "    </tr>\n",
       "    <tr>\n",
       "      <th>10</th>\n",
       "      <td>0</td>\n",
       "      <td>457</td>\n",
       "      <td>0</td>\n",
       "      <td>2005</td>\n",
       "      <td>4</td>\n",
       "      <td>22.000</td>\n",
       "      <td>582.0</td>\n",
       "      <td>26.45</td>\n",
       "      <td>7</td>\n",
       "      <td>2005-07-01</td>\n",
       "      <td>2000</td>\n",
       "      <td>3</td>\n",
       "      <td>404.0</td>\n",
       "      <td>1278.0</td>\n",
       "    </tr>\n",
       "  </tbody>\n",
       "</table>\n",
       "</div>"
      ],
      "text/plain": [
       "    State  District  Crop  Crop_Year  Season     Area  Production  Yield  \\\n",
       "6       0       457     0       2000       4  176.000       641.0   3.64   \n",
       "7       0       457     0       2002       4  213.000      1278.0   6.00   \n",
       "8       0       457     0       2003       4  266.000      1763.0   6.63   \n",
       "9       0       457     0       2004       4   66.418       404.0   6.08   \n",
       "10      0       457     0       2005       4   22.000       582.0  26.45   \n",
       "\n",
       "    Month       Date  Decade  Quarter  Production_Lag_1  Production_Lag_3  \n",
       "6       7 2000-07-01    2000        3               NaN               NaN  \n",
       "7       7 2002-07-01    2000        3             641.0               NaN  \n",
       "8       7 2003-07-01    2000        3            1278.0               NaN  \n",
       "9       7 2004-07-01    2000        3            1763.0             641.0  \n",
       "10      7 2005-07-01    2000        3             404.0            1278.0  "
      ]
     },
     "execution_count": 21,
     "metadata": {},
     "output_type": "execute_result"
    }
   ],
   "source": [
    "# Reset the index but drop it to avoid duplication\n",
    "data = data.reset_index(drop=True)\n",
    "\n",
    "# Now safely sort and create lag features\n",
    "data = data.sort_values(by=['Crop', 'State', 'District', 'Date'])\n",
    "\n",
    "# Create lag features\n",
    "data['Production_Lag_1'] = data.groupby(['State', 'District', 'Crop'])['Production'].shift(1)\n",
    "data['Production_Lag_3'] = data.groupby(['State', 'District', 'Crop'])['Production'].shift(3)\n",
    "\n",
    "data.head()\n"
   ]
  },
  {
   "cell_type": "code",
   "execution_count": 22,
   "metadata": {
    "execution": {
     "iopub.execute_input": "2025-06-21T05:42:19.376440Z",
     "iopub.status.busy": "2025-06-21T05:42:19.376142Z",
     "iopub.status.idle": "2025-06-21T05:42:19.398050Z",
     "shell.execute_reply": "2025-06-21T05:42:19.397122Z",
     "shell.execute_reply.started": "2025-06-21T05:42:19.376416Z"
    },
    "trusted": true
   },
   "outputs": [],
   "source": [
    "data.sort_values(['State', 'District', 'Crop', 'Date'], inplace=True)\n",
    "\n",
    "data['Production_Lag_1'] = data.groupby(['State', 'District', 'Crop'])['Production'].shift(1)\n",
    "data['Production_Lag_3'] = data.groupby(['State', 'District', 'Crop'])['Production'].shift(3)\n"
   ]
  },
  {
   "cell_type": "code",
   "execution_count": 23,
   "metadata": {
    "execution": {
     "iopub.execute_input": "2025-06-21T05:42:22.196675Z",
     "iopub.status.busy": "2025-06-21T05:42:22.196354Z",
     "iopub.status.idle": "2025-06-21T05:42:22.217844Z",
     "shell.execute_reply": "2025-06-21T05:42:22.216873Z",
     "shell.execute_reply.started": "2025-06-21T05:42:22.196646Z"
    },
    "trusted": true
   },
   "outputs": [],
   "source": [
    "data['Production'] = data.groupby(['Crop', 'Season'])['Production'].transform(lambda x: x.fillna(x.median()))\n",
    "\n"
   ]
  },
  {
   "cell_type": "code",
   "execution_count": 24,
   "metadata": {
    "execution": {
     "iopub.execute_input": "2025-06-21T05:42:41.676817Z",
     "iopub.status.busy": "2025-06-21T05:42:41.676524Z",
     "iopub.status.idle": "2025-06-21T05:42:42.525650Z",
     "shell.execute_reply": "2025-06-21T05:42:42.524743Z",
     "shell.execute_reply.started": "2025-06-21T05:42:41.676795Z"
    },
    "trusted": true
   },
   "outputs": [],
   "source": [
    "data['Production_Lag_1'] = data.groupby(['State', 'District', 'Crop'])['Production_Lag_1'].transform(lambda x: x.fillna(x.median()))\n",
    "data['Production_Lag_3'] = data.groupby(['State', 'District', 'Crop'])['Production_Lag_3'].transform(lambda x: x.fillna(x.median()))\n"
   ]
  },
  {
   "cell_type": "code",
   "execution_count": 25,
   "metadata": {
    "execution": {
     "iopub.execute_input": "2025-06-21T05:42:44.160845Z",
     "iopub.status.busy": "2025-06-21T05:42:44.160562Z",
     "iopub.status.idle": "2025-06-21T05:42:44.759265Z",
     "shell.execute_reply": "2025-06-21T05:42:44.758595Z",
     "shell.execute_reply.started": "2025-06-21T05:42:44.160823Z"
    },
    "trusted": true
   },
   "outputs": [],
   "source": [
    "data['Production_Lag_1'] = data.groupby(['State', 'District', 'Crop'])['Production_Lag_1'].transform(lambda x: x.fillna(x.median()))\n",
    "data['Production_Lag_3'] = data.groupby(['State', 'District', 'Crop'])['Production_Lag_3'].transform(lambda x: x.fillna(x.median()))\n",
    " "
   ]
  },
  {
   "cell_type": "code",
   "execution_count": 26,
   "metadata": {
    "execution": {
     "iopub.execute_input": "2025-06-21T05:42:47.161960Z",
     "iopub.status.busy": "2025-06-21T05:42:47.161685Z",
     "iopub.status.idle": "2025-06-21T05:42:48.515014Z",
     "shell.execute_reply": "2025-06-21T05:42:48.514359Z",
     "shell.execute_reply.started": "2025-06-21T05:42:47.161939Z"
    },
    "trusted": true
   },
   "outputs": [],
   "source": [
    "# Step 1: Sort the DataFrame\n",
    "data = data.sort_values(by=['State', 'District', 'Crop', 'Date'])\n",
    "\n",
    "# Step 2: Fill missing values forward then backward within each group\n",
    "data['Production_Lag_1'] = data.groupby(['State', 'District', 'Crop'])['Production_Lag_1']\\\n",
    "                               .transform(lambda x: x.ffill().bfill())\n",
    "\n",
    "data['Production_Lag_3'] = data.groupby(['State', 'District', 'Crop'])['Production_Lag_3']\\\n",
    "                               .transform(lambda x: x.ffill().bfill())\n",
    "\n",
    "# Step 3: Fill remaining missing values with the median of each group\n",
    "data['Production_Lag_1'] = data.groupby(['State', 'District', 'Crop'])['Production_Lag_1']\\\n",
    "                               .transform(lambda x: x.fillna(x.median()))\n",
    "\n",
    "data['Production_Lag_3'] = data.groupby(['State', 'District', 'Crop'])['Production_Lag_3']\\\n",
    "                               .transform(lambda x: x.fillna(x.median()))\n",
    "\n",
    "# Step 4: Fill any final leftovers with 0\n",
    "data[['Production_Lag_1', 'Production_Lag_3']] = data[['Production_Lag_1', 'Production_Lag_3']].fillna(0)\n"
   ]
  },
  {
   "cell_type": "code",
   "execution_count": 27,
   "metadata": {
    "execution": {
     "iopub.execute_input": "2025-06-21T05:42:51.716461Z",
     "iopub.status.busy": "2025-06-21T05:42:51.716163Z",
     "iopub.status.idle": "2025-06-21T05:44:44.517718Z",
     "shell.execute_reply": "2025-06-21T05:44:44.516811Z",
     "shell.execute_reply.started": "2025-06-21T05:42:51.716439Z"
    },
    "trusted": true
   },
   "outputs": [
    {
     "name": "stdout",
     "output_type": "stream",
     "text": [
      "Model saved successfully as 'random_forest_crop_model.pkl'\n"
     ]
    }
   ],
   "source": [
    "import pandas as pd\n",
    "import numpy as np\n",
    "import joblib  # For saving/loading models\n",
    "from sklearn.ensemble import RandomForestRegressor\n",
    "from sklearn.model_selection import train_test_split\n",
    "from sklearn.metrics import mean_absolute_error, mean_squared_error, r2_score\n",
    "\n",
    "# Assuming 'data' is already loaded\n",
    "df_model = data.dropna()\n",
    "\n",
    "# Define features and target\n",
    "features = ['State', 'District', 'Crop_Year', 'Season', 'Crop', \n",
    "            'Area', 'Month', 'Decade', 'Quarter', 'Production_Lag_1', 'Production_Lag_3']\n",
    "target = 'Production'\n",
    "\n",
    "# Separate features and target\n",
    "X = df_model[features]\n",
    "y = df_model[target]\n",
    "\n",
    "# One-hot encode categorical variables\n",
    "X_encoded = pd.get_dummies(X, columns=['State', 'District', 'Season', 'Crop', 'Month', 'Decade', 'Quarter'])\n",
    "\n",
    "# Split the data\n",
    "X_train, X_test, y_train, y_test = train_test_split(X_encoded, y, shuffle=False, test_size=0.2)\n",
    "\n",
    "# Initialize and train the model\n",
    "model = RandomForestRegressor(n_estimators=100, random_state=42)\n",
    "model.fit(X_train, y_train)\n",
    "\n",
    "# ✅ Correctly save the trained model\n",
    "joblib.dump(model, \"prediction_model.pkl\")\n",
    "print(\"Model saved successfully as 'random_forest_crop_model.pkl'\")  # Should print correctly\n",
    "\n",
    " \n",
    " \n",
    " \n"
   ]
  },
  {
   "cell_type": "code",
   "execution_count": 28,
   "metadata": {
    "execution": {
     "iopub.execute_input": "2025-06-21T05:49:33.055702Z",
     "iopub.status.busy": "2025-06-21T05:49:33.055356Z",
     "iopub.status.idle": "2025-06-21T05:49:33.343589Z",
     "shell.execute_reply": "2025-06-21T05:49:33.342675Z",
     "shell.execute_reply.started": "2025-06-21T05:49:33.055678Z"
    },
    "trusted": true
   },
   "outputs": [
    {
     "name": "stdout",
     "output_type": "stream",
     "text": [
      "Model saved successfully as 'random_forest_crop_model.pkl'\n"
     ]
    }
   ],
   "source": [
    "# ✅ Correctly save the trained model\n",
    "joblib.dump(model, \"random.pkl\")\n",
    "print(\"Model saved successfully as 'random_forest_crop_model.pkl'\")"
   ]
  },
  {
   "cell_type": "code",
   "execution_count": 34,
   "metadata": {
    "execution": {
     "iopub.execute_input": "2025-06-21T05:53:37.753159Z",
     "iopub.status.busy": "2025-06-21T05:53:37.752824Z",
     "iopub.status.idle": "2025-06-21T05:53:37.779828Z",
     "shell.execute_reply": "2025-06-21T05:53:37.779157Z",
     "shell.execute_reply.started": "2025-06-21T05:53:37.753132Z"
    },
    "trusted": true
   },
   "outputs": [],
   "source": [
    "pd.DataFrame(columns=X_encoded.columns).to_csv(\"encoded_feature_columns.csv\", index=False)\n"
   ]
  },
  {
   "cell_type": "code",
   "execution_count": 30,
   "metadata": {
    "execution": {
     "iopub.execute_input": "2025-06-21T05:49:40.799811Z",
     "iopub.status.busy": "2025-06-21T05:49:40.799525Z",
     "iopub.status.idle": "2025-06-21T05:49:40.906157Z",
     "shell.execute_reply": "2025-06-21T05:49:40.905462Z",
     "shell.execute_reply.started": "2025-06-21T05:49:40.799787Z"
    },
    "trusted": true
   },
   "outputs": [
    {
     "name": "stdout",
     "output_type": "stream",
     "text": [
      "✅ historical_production.csv has been generated successfully!\n"
     ]
    }
   ],
   "source": [
    "import pandas as pd\n",
    "\n",
    "# Assuming you already have your cleaned/preprocessed data as 'data' or 'df_model'\n",
    "# Make sure it includes these columns: State, District, Crop, Season, Crop_Year, Production\n",
    "\n",
    "# Step 1: Drop rows with missing values in relevant columns (if any)\n",
    "historical_df = data[['State', 'District', 'Crop', 'Season', 'Crop_Year', 'Production']].dropna()\n",
    "\n",
    "# Step 2: Optional - sort the data for consistency (not required but recommended)\n",
    "historical_df = historical_df.sort_values(by=['State', 'District', 'Crop', 'Season', 'Crop_Year'])\n",
    "\n",
    "# Step 3: Save as CSV\n",
    "historical_df.to_csv(\"historical_production.csv\", index=False)\n",
    "\n",
    "print(\"✅ historical_production.csv has been generated successfully!\")\n"
   ]
  },
  {
   "cell_type": "code",
   "execution_count": 35,
   "metadata": {
    "execution": {
     "iopub.execute_input": "2025-06-21T05:56:19.952710Z",
     "iopub.status.busy": "2025-06-21T05:56:19.952389Z",
     "iopub.status.idle": "2025-06-21T05:56:20.268983Z",
     "shell.execute_reply": "2025-06-21T05:56:20.268105Z",
     "shell.execute_reply.started": "2025-06-21T05:56:19.952685Z"
    },
    "trusted": true
   },
   "outputs": [
    {
     "name": "stdout",
     "output_type": "stream",
     "text": [
      "MAE: 25657.380330012456\n",
      "R² Score: 0.830489376847316\n"
     ]
    }
   ],
   "source": [
    "\n",
    "from sklearn.metrics import mean_absolute_error, r2_score\n",
    "\n",
    "y_pred = model.predict(X_test)\n",
    "\n",
    "print(\"MAE:\", mean_absolute_error(y_test, y_pred))\n",
    "print(\"R² Score:\", r2_score(y_test, y_pred))\n"
   ]
  },
  {
   "cell_type": "code",
   "execution_count": null,
   "metadata": {
    "execution": {
     "iopub.status.busy": "2025-03-30T04:41:34.258509Z",
     "iopub.status.idle": "2025-03-30T04:41:34.258787Z",
     "shell.execute_reply": "2025-03-30T04:41:34.258679Z"
    },
    "trusted": true
   },
   "outputs": [],
   "source": [
    "import joblib\n",
    "\n",
    "# Save the best model\n",
    "joblib.dump(model, 'best_random_forest.pkl')\n"
   ]
  },
  {
   "cell_type": "code",
   "execution_count": null,
   "metadata": {
    "execution": {
     "iopub.execute_input": "2025-03-30T04:59:19.316178Z",
     "iopub.status.busy": "2025-03-30T04:59:19.315895Z",
     "iopub.status.idle": "2025-03-30T04:59:19.341691Z",
     "shell.execute_reply": "2025-03-30T04:59:19.340964Z",
     "shell.execute_reply.started": "2025-03-30T04:59:19.316156Z"
    },
    "trusted": true
   },
   "outputs": [],
   "source": [
    "history=pd.read_csv(\"/kaggle/working/historical_production.csv\")\n",
    "history.head()"
   ]
  },
  {
   "cell_type": "code",
   "execution_count": null,
   "metadata": {
    "execution": {
     "iopub.status.busy": "2025-03-30T04:41:34.259821Z",
     "iopub.status.idle": "2025-03-30T04:41:34.2601Z",
     "shell.execute_reply": "2025-03-30T04:41:34.259996Z"
    },
    "trusted": true
   },
   "outputs": [],
   "source": [
    "import matplotlib.pyplot as plt\n",
    "\n",
    "plt.figure(figsize=(12,6))\n",
    "plt.plot(y_test.values[:100], label='Actual', marker='o')\n",
    "plt.plot(y_pred[:100], label='Predicted', marker='x')\n",
    "plt.title('Actual vs Predicted Production')\n",
    "plt.xlabel('Samples')\n",
    "plt.ylabel('Production')\n",
    "plt.legend()\n",
    "plt.grid(True)\n",
    "plt.show()\n"
   ]
  },
  {
   "cell_type": "code",
   "execution_count": null,
   "metadata": {
    "execution": {
     "iopub.execute_input": "2025-03-30T06:58:05.357177Z",
     "iopub.status.busy": "2025-03-30T06:58:05.35686Z",
     "iopub.status.idle": "2025-03-30T06:58:05.524914Z",
     "shell.execute_reply": "2025-03-30T06:58:05.524019Z",
     "shell.execute_reply.started": "2025-03-30T06:58:05.357151Z"
    },
    "trusted": true
   },
   "outputs": [],
   "source": [
    "import pickle\n",
    "import joblib\n",
    "model = pickle.load(open(\"/kaggle/working/prediction_model.pkl\", \"rb\"))\n",
    "print(\"Loaded model type:\", type(model))\n"
   ]
  },
  {
   "cell_type": "code",
   "execution_count": null,
   "metadata": {
    "execution": {
     "iopub.execute_input": "2025-03-30T06:57:26.059957Z",
     "iopub.status.busy": "2025-03-30T06:57:26.05968Z",
     "iopub.status.idle": "2025-03-30T06:57:26.635812Z",
     "shell.execute_reply": "2025-03-30T06:57:26.63483Z",
     "shell.execute_reply.started": "2025-03-30T06:57:26.059937Z"
    },
    "trusted": true
   },
   "outputs": [],
   "source": [
    "# Save the model correctly\n",
    "with open(\"/kaggle/working/prediction_model.pkl\", \"wb\") as f:\n",
    "    pickle.dump(model, f)"
   ]
  },
  {
   "cell_type": "code",
   "execution_count": 31,
   "metadata": {
    "execution": {
     "iopub.execute_input": "2025-06-21T05:51:45.885618Z",
     "iopub.status.busy": "2025-06-21T05:51:45.885298Z",
     "iopub.status.idle": "2025-06-21T05:51:45.889986Z",
     "shell.execute_reply": "2025-06-21T05:51:45.889231Z",
     "shell.execute_reply.started": "2025-06-21T05:51:45.885594Z"
    },
    "trusted": true
   },
   "outputs": [
    {
     "name": "stdout",
     "output_type": "stream",
     "text": [
      "<class 'sklearn.ensemble._forest.RandomForestRegressor'>\n"
     ]
    }
   ],
   "source": [
    "print(type(model))  # Should output: <class 'sklearn.ensemble.RandomForestRegressor'>\n"
   ]
  },
  {
   "cell_type": "code",
   "execution_count": null,
   "metadata": {
    "execution": {
     "iopub.execute_input": "2025-03-30T07:55:26.432184Z",
     "iopub.status.busy": "2025-03-30T07:55:26.431897Z",
     "iopub.status.idle": "2025-03-30T07:55:26.453633Z",
     "shell.execute_reply": "2025-03-30T07:55:26.452661Z",
     "shell.execute_reply.started": "2025-03-30T07:55:26.432162Z"
    },
    "trusted": true
   },
   "outputs": [],
   "source": [
    "import pandas as pd\n",
    "check=pd.read_csv(\"/kaggle/input/crop-recommended/crop_recommendation.csv\")"
   ]
  },
  {
   "cell_type": "code",
   "execution_count": null,
   "metadata": {
    "execution": {
     "iopub.execute_input": "2025-03-30T07:55:35.622133Z",
     "iopub.status.busy": "2025-03-30T07:55:35.621791Z",
     "iopub.status.idle": "2025-03-30T07:55:35.633082Z",
     "shell.execute_reply": "2025-03-30T07:55:35.632163Z",
     "shell.execute_reply.started": "2025-03-30T07:55:35.622088Z"
    },
    "trusted": true
   },
   "outputs": [],
   "source": [
    "check.head()"
   ]
  },
  {
   "cell_type": "code",
   "execution_count": null,
   "metadata": {
    "trusted": true
   },
   "outputs": [],
   "source": [
    " import pandas as pd"
   ]
  },
  {
   "cell_type": "code",
   "execution_count": null,
   "metadata": {
    "trusted": true
   },
   "outputs": [],
   "source": []
  }
 ],
 "metadata": {
  "kaggle": {
   "accelerator": "nvidiaTeslaT4",
   "dataSources": [
    {
     "datasetId": 2949098,
     "sourceId": 5083216,
     "sourceType": "datasetVersion"
    },
    {
     "datasetId": 6974706,
     "sourceId": 11175201,
     "sourceType": "datasetVersion"
    },
    {
     "datasetId": 6975500,
     "sourceId": 11176284,
     "sourceType": "datasetVersion"
    },
    {
     "datasetId": 7000522,
     "sourceId": 11211208,
     "sourceType": "datasetVersion"
    },
    {
     "modelId": 283543,
     "modelInstanceId": 262419,
     "sourceId": 308799,
     "sourceType": "modelInstanceVersion"
    }
   ],
   "dockerImageVersionId": 30919,
   "isGpuEnabled": true,
   "isInternetEnabled": true,
   "language": "python",
   "sourceType": "notebook"
  },
  "kernelspec": {
   "display_name": "Python 3",
   "language": "python",
   "name": "python3"
  },
  "language_info": {
   "codemirror_mode": {
    "name": "ipython",
    "version": 3
   },
   "file_extension": ".py",
   "mimetype": "text/x-python",
   "name": "python",
   "nbconvert_exporter": "python",
   "pygments_lexer": "ipython3",
   "version": "3.10.12"
  }
 },
 "nbformat": 4,
 "nbformat_minor": 4
}
